{
 "cells": [
  {
   "cell_type": "code",
   "execution_count": 1,
   "metadata": {},
   "outputs": [],
   "source": [
    "import optforge as of\n",
    "import pysors\n",
    "from optforge.benchmarks.vobench_benchmarks import VOBenchmark\n",
    "import vobench as vb\n",
    "\n",
    "sir_inputs = vb.imread(r\"C:\\Users\\nkshv\\Pictures\\AA_AerofleetArt.jpg\")\n",
    "reg_inputs = vb.imread(r\"F:\\Stuff\\Programming\\AI\\VOBench\\VOBench\\notebooks\\affine\\A2.jpeg\")[:,:,0]\n",
    "reg_targets = vb.imread(r\"F:\\Stuff\\Programming\\AI\\VOBench\\VOBench\\notebooks\\affine\\A.jpeg\")[:,:,0]\n",
    "ds = vb.datasets.randsinlike_dataset()\n",
    "\n",
    "class RHO:\n",
    "    def __init__(self, p=2., c=0.0):\n",
    "        self.p = p\n",
    "        self.c = c\n",
    "    def __call__(self, z):\n",
    "        return self.c*z**self.p\n"
   ]
  },
  {
   "cell_type": "code",
   "execution_count": 2,
   "metadata": {},
   "outputs": [],
   "source": [
    "BENCHMARKS = {\n",
    "    \"WasteTreatmentPlantDesign\":\n",
    "        {\n",
    "            \"bench\": of.benchmarks.WasteTreatmentPlantDesign,\n",
    "            \"evals\": 1000,\n",
    "            \"tol\": None,\n",
    "            \"scale\": 1/71e3,\n",
    "            \"n\": 4\n",
    "        },\n",
    "    \"ChemicalEquilibriumProblem\":\n",
    "        {\n",
    "            \"bench\": of.benchmarks.ChemicalEquilibriumProblem,\n",
    "            \"evals\": 1000,\n",
    "            \"tol\": None,\n",
    "            \"scale\": 1/5e20,\n",
    "            \"n\": 4\n",
    "        },\n",
    "    \"TransformerDesign\":\n",
    "        {\n",
    "            \"bench\": of.benchmarks.TransformerDesign,\n",
    "            \"evals\": 1000,\n",
    "            \"tol\": None,\n",
    "            \"scale\": 1/135,\n",
    "            \"n\": 4\n",
    "        },\n",
    "    \"BoxPacking1\":\n",
    "        {\n",
    "            \"bench\": lambda: VOBenchmark(vb.BoxPacking.from_container(vb.CONTAINER1)),\n",
    "            \"evals\": 1000,\n",
    "            \"tol\": 1e-2,\n",
    "            \"scale\": 1,\n",
    "            \"n\": 4,\n",
    "        },\n",
    "    # \"RectangleImageRecreation10\":\n",
    "    #     {\n",
    "    #         \"bench\": lambda: VOBenchmark(vb.RectangleImageRecreation(sir_inputs, 10, learnable_bg = False)),\n",
    "    #         \"evals\": 1000,\n",
    "    #         \"tol\": None,\n",
    "    #         \"scale\": 1,\n",
    "    #         \"n\": 1,\n",
    "    #     },\n",
    "    # \"Coregistration\":\n",
    "    #     {\n",
    "    #         \"bench\": lambda: VOBenchmark(vb.Coregistration(reg_inputs, reg_targets, )),\n",
    "    #         \"evals\": 1000,\n",
    "    #         \"tol\": 1e-2,\n",
    "    #         \"scale\": 1,\n",
    "    #         \"n\": 1\n",
    "    #     },\n",
    "    # \"Deformation\":\n",
    "    #     {\n",
    "    #         \"bench\": lambda: VOBenchmark(vb.Deformation(reg_inputs, reg_targets, shape=(5,5))),\n",
    "    #         \"evals\": 1000,\n",
    "    #         \"tol\": 1e-2,\n",
    "    #         \"scale\": 1,\n",
    "    #         \"n\": 1\n",
    "    #     },\n",
    "    \"LinearRegression\":\n",
    "        {\n",
    "            \"bench\": lambda: VOBenchmark(vb.LinearRegression(ds),),\n",
    "            \"evals\": 100,\n",
    "            \"tol\": None,\n",
    "            \"scale\": 1,\n",
    "            \"n\": 4,\n",
    "        },\n",
    "    \"PolynomialRegression\":\n",
    "        {\n",
    "            \"bench\": lambda: VOBenchmark(vb.PolynomialRegression(ds, order=10),),\n",
    "            \"evals\": 1000,\n",
    "            \"tol\": None,\n",
    "            \"scale\": 1,\n",
    "            \"n\": 4,\n",
    "        },\n",
    "    \"SinusoidalRegression\":\n",
    "        {\n",
    "            \"bench\": lambda: VOBenchmark(vb.SinusoidalRegression(ds,),),\n",
    "            \"evals\": 1000,\n",
    "            \"tol\": None,\n",
    "            \"scale\": 1,\n",
    "            \"n\": 4,\n",
    "        },\n",
    "    \"PiecewiseRegression\":\n",
    "        {\n",
    "            \"bench\": lambda: VOBenchmark(vb.PiecewiseRegression(ds,),),\n",
    "            \"evals\": 1000,\n",
    "            \"tol\": None,\n",
    "            \"scale\": 1,\n",
    "            \"n\": 4,\n",
    "        },\n",
    "    \"StepwiseRegression\":\n",
    "        {\n",
    "            \"bench\": lambda: VOBenchmark(vb.StepwiseRegression(ds,),),\n",
    "            \"evals\": 1000,\n",
    "            \"tol\": None,\n",
    "            \"scale\": 1,\n",
    "            \"n\": 4,\n",
    "        },\n",
    "}"
   ]
  },
  {
   "cell_type": "code",
   "execution_count": 3,
   "metadata": {},
   "outputs": [],
   "source": [
    "def make_optimizer(trial: of.Trial):\n",
    "    return of.integrations.PySORSOptimizer(\n",
    "        pysors.RSPI_FD(\n",
    "            a_init = trial.suggest_float(\"a_init\", 1e-8, 10, init=0.25),\n",
    "            c_init = trial.suggest_float(\"c_init\", 1e-8, 10, init=0.1, domain='log2'),\n",
    "            beta = trial.suggest_float(\"beta\", 1e-8, 10, init=0.5,),\n",
    "            sigma_1 = trial.suggest_float(\"sigma_1\", 1e-8, 10, init=0.25,),\n",
    "            sigma_2 = trial.suggest_float(\"sigma_2\", 1e-8, 10, init=0.101),\n",
    "            distribution = trial.suggest_categorical(\"distribution\", ['Uniform', 'Normal']),\n",
    "            step_upd = trial.suggest_categorical(\"step_upd\", ['half', 'inv', 'inv_sqrt']),\n",
    "            theta = trial.suggest_float(\"theta\", 1e-8, 10, init = 0.6),\n",
    "            T_half = trial.suggest_int(\"T_half\", 1, 1000, init = 10),\n",
    "            T_power = trial.suggest_int(\"T_power\", 1, 1000, init = 100),\n",
    "        )\n",
    "        )\n",
    "\n",
    "\n",
    "def objective(trial: of.Trial):\n",
    "    total = 1\n",
    "    for k,v in BENCHMARKS.items():\n",
    "        itotal = []\n",
    "        for i in range(v['n']):\n",
    "            bench:of.benchmarks.Benchmark = v[\"bench\"]()\n",
    "            #print(f'{k}-{i}')\n",
    "            opt = make_optimizer(trial)\n",
    "            try: bench.run(opt, v[\"evals\"], tol=v['tol'], progress=False, print_results=False)\n",
    "            except OverflowError: pass\n",
    "            if len(bench.study.trials) == 0: vals = [float('inf')]\n",
    "            vals = [float(t.objective_value.opt_value) for t in bench.study.trials]\n",
    "            vals.sort() # type:ignore\n",
    "            best = vals[0]\n",
    "            trial.log(f'{k}_{i}', best)\n",
    "            if v['tol'] is not None:\n",
    "                best *= bench.study.current_eval / v['evals']\n",
    "            itotal.append(best)\n",
    "\n",
    "        best_total = sum(itotal) / len(itotal)\n",
    "        trial.log(f'{k}_total', best_total)\n",
    "\n",
    "        total *= (best_total * v['scale']) + 1\n",
    "    #print(f'{total = }', '\\n')\n",
    "    return total\n"
   ]
  },
  {
   "cell_type": "code",
   "execution_count": 4,
   "metadata": {},
   "outputs": [
    {
     "name": "stderr",
     "output_type": "stream",
     "text": [
      "d:\\miniconda3\\envs\\pytorch312\\Lib\\site-packages\\ignite\\handlers\\checkpoint.py:16: DeprecationWarning: `TorchScript` support for functional optimizers is deprecated and will be removed in a future PyTorch release. Consider using the `torch.compile` optimizer instead.\n",
      "  from torch.distributed.optim import ZeroRedundancyOptimizer\n"
     ]
    },
    {
     "name": "stdout",
     "output_type": "stream",
     "text": [
      "evals: 19/1000 | best value: 3.73e+04                            \r"
     ]
    },
    {
     "name": "stderr",
     "output_type": "stream",
     "text": [
      "F:\\Stuff\\Programming\\AI\\pySORS\\pySORS\\src\\pysors\\rspi.py:107: RuntimeWarning: invalid value encountered in divide\n",
      "  d2 = Hd/np.linalg.norm(Hd)\n"
     ]
    },
    {
     "name": "stdout",
     "output_type": "stream",
     "text": [
      "evals: 1000/1000 | best value: 110.6466                            \n",
      "Job finished in 12344.0s., did 1000 evaluations.\n"
     ]
    }
   ],
   "source": [
    "study = of.Study()\n",
    "study.optimize(objective, 'optuna.tpe', max_evals = 1000, )"
   ]
  },
  {
   "cell_type": "code",
   "execution_count": 5,
   "metadata": {},
   "outputs": [
    {
     "data": {
      "text/plain": [
       "{'WasteTreatmentPlantDesign_0': 172744.91483054982,\n",
       " 'WasteTreatmentPlantDesign_1': 93314.77571279857,\n",
       " 'WasteTreatmentPlantDesign_2': 168394.59632634663,\n",
       " 'WasteTreatmentPlantDesign_3': 181383.91354845066,\n",
       " 'WasteTreatmentPlantDesign_total': 153959.5501045364,\n",
       " 'ChemicalEquilibriumProblem_0': 2.0268693833203158e+20,\n",
       " 'ChemicalEquilibriumProblem_1': 1.2257557005754428e+21,\n",
       " 'ChemicalEquilibriumProblem_2': 1.0252799317562011e+21,\n",
       " 'ChemicalEquilibriumProblem_3': 1.174578876722133e+20,\n",
       " 'ChemicalEquilibriumProblem_total': 6.427951145839722e+20,\n",
       " 'TransformerDesign_0': 165.52705604182626,\n",
       " 'TransformerDesign_1': 554.5297455791994,\n",
       " 'TransformerDesign_2': 192.93595529295774,\n",
       " 'TransformerDesign_3': 177.14366160960762,\n",
       " 'TransformerDesign_total': 272.53410463089773,\n",
       " 'BoxPacking1_0': 2.8669200590646606,\n",
       " 'BoxPacking1_1': 1.90930845851162,\n",
       " 'BoxPacking1_2': 1.925510846971661,\n",
       " 'BoxPacking1_3': 1.9281973874955816,\n",
       " 'BoxPacking1_total': 2.157484188010881,\n",
       " 'LinearRegression_0': 0.06345124452570505,\n",
       " 'LinearRegression_1': 0.08753278335463123,\n",
       " 'LinearRegression_2': 0.04870652122557871,\n",
       " 'LinearRegression_3': 0.041706037591313395,\n",
       " 'LinearRegression_total': 0.060349146674307096,\n",
       " 'PolynomialRegression_0': 0.07884046213491279,\n",
       " 'PolynomialRegression_1': 0.055770969560990105,\n",
       " 'PolynomialRegression_2': 0.053758573622357884,\n",
       " 'PolynomialRegression_3': 0.07647512289112146,\n",
       " 'PolynomialRegression_total': 0.06621128205234555,\n",
       " 'SinusoidalRegression_0': 0.19433831327442627,\n",
       " 'SinusoidalRegression_1': 0.2041526022720747,\n",
       " 'SinusoidalRegression_2': 0.2041077507310319,\n",
       " 'SinusoidalRegression_3': 0.20581225298199052,\n",
       " 'SinusoidalRegression_total': 0.20210272981488087,\n",
       " 'PiecewiseRegression_0': 0.08761800450900746,\n",
       " 'PiecewiseRegression_1': 0.08045159257268389,\n",
       " 'PiecewiseRegression_2': 0.08793512200855882,\n",
       " 'PiecewiseRegression_3': 0.08797015722332367,\n",
       " 'PiecewiseRegression_total': 0.08599371907839345,\n",
       " 'StepwiseRegression_0': 0.10619078765589691,\n",
       " 'StepwiseRegression_1': 0.07941087607391091,\n",
       " 'StepwiseRegression_2': 0.07931839518418299,\n",
       " 'StepwiseRegression_3': 0.07939345633892789,\n",
       " 'StepwiseRegression_total': 0.08607837881322968}"
      ]
     },
     "execution_count": 5,
     "metadata": {},
     "output_type": "execute_result"
    }
   ],
   "source": [
    "study.best_trial.logs"
   ]
  },
  {
   "cell_type": "code",
   "execution_count": 6,
   "metadata": {},
   "outputs": [
    {
     "data": {
      "text/plain": [
       "{'a_init': 1.3916738990058146,\n",
       " 'c_init': 0.8072387805967745,\n",
       " 'beta': 5.033335921097635,\n",
       " 'sigma_1': 0.24391634488641767,\n",
       " 'sigma_2': 9.994086493906902,\n",
       " 'distribution': 'Normal',\n",
       " 'step_upd': 'half',\n",
       " 'theta': 2.3706393959382197,\n",
       " 'T_half': 633,\n",
       " 'T_power': 1}"
      ]
     },
     "execution_count": 6,
     "metadata": {},
     "output_type": "execute_result"
    }
   ],
   "source": [
    "study.best_params"
   ]
  },
  {
   "cell_type": "code",
   "execution_count": 7,
   "metadata": {},
   "outputs": [
    {
     "data": {
      "image/png": "[encoded data removed]",
      "text/plain": [
       "<Figure size 640x480 with 1 Axes>"
      ]
     },
     "metadata": {},
     "output_type": "display_data"
    }
   ],
   "source": [
    "study.history.plot_convergence(ylim = (8.2, 100))"
   ]
  }
 ],
 "metadata": {
  "kernelspec": {
   "display_name": "pytorch312",
   "language": "python",
   "name": "python3"
  },
  "language_info": {
   "codemirror_mode": {
    "name": "ipython",
    "version": 3
   },
   "file_extension": ".py",
   "mimetype": "text/x-python",
   "name": "python",
   "nbconvert_exporter": "python",
   "pygments_lexer": "ipython3",
   "version": "3.12.3"
  }
 },
 "nbformat": 4,
 "nbformat_minor": 2
}
