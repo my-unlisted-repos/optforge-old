{
 "cells": [
  {
   "cell_type": "code",
   "execution_count": 40,
   "metadata": {},
   "outputs": [],
   "source": [
    "from optforge.param import TransitChoice\n",
    "import pytest, numpy as np\n",
    "@pytest.mark.parametrize(\"value\", [0, 1, 2, 3, 4])\n",
    "@pytest.mark.parametrize(\"scale\", [0.5, None, 100])\n",
    "@pytest.mark.parametrize(\"normalize\", [True, False])\n",
    "def test_transit_param_set_from_numeric_value(value, scale, normalize):\n",
    "    p = TransitChoice('p', 1, ('0', '1', '2', '3', '4'), scale = scale, normalize=normalize)\n",
    "    p.set_from_numeric_value(np.array(value))\n",
    "    assert int(p()[0]) == value"
   ]
  },
  {
   "cell_type": "code",
   "execution_count": 39,
   "metadata": {},
   "outputs": [],
   "source": [
    "test_transit_param_set_from_numeric_value(2, 10, True)"
   ]
  }
 ],
 "metadata": {
  "kernelspec": {
   "display_name": "pytorch312",
   "language": "python",
   "name": "python3"
  },
  "language_info": {
   "codemirror_mode": {
    "name": "ipython",
    "version": 3
   },
   "file_extension": ".py",
   "mimetype": "text/x-python",
   "name": "python",
   "nbconvert_exporter": "python",
   "pygments_lexer": "ipython3",
   "version": "3.12.4"
  }
 },
 "nbformat": 4,
 "nbformat_minor": 2
}
